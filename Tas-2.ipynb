{
 "cells": [
  {
   "cell_type": "markdown",
   "id": "e79df225-2a27-4e3b-8d9b-0f8d5e6139d8",
   "metadata": {},
   "source": [
    "**BMI Calculator**"
   ]
  },
  {
   "cell_type": "code",
   "execution_count": 3,
   "id": "aca6edd4-d7eb-40ae-99d2-4a6d23ef964b",
   "metadata": {},
   "outputs": [
    {
     "name": "stdin",
     "output_type": "stream",
     "text": [
      "Enter your weight in kilograms:  60\n",
      "Enter your height in meters:  5\n"
     ]
    },
    {
     "name": "stdout",
     "output_type": "stream",
     "text": [
      "Your BMI is: 2.40\n",
      "Category: Underweight\n"
     ]
    }
   ],
   "source": [
    "# BMI Calculator\n",
    "\n",
    "def calculate_bmi(weight, height):\n",
    "    return weight / (height ** 2)\n",
    "\n",
    "def classify_bmi(bmi):\n",
    "    if bmi < 18.5:\n",
    "        return \"Underweight\"\n",
    "    elif 18.5 <= bmi < 24.9:\n",
    "        return \"Normal weight\"\n",
    "    elif 25 <= bmi < 29.9:\n",
    "        return \"Overweight\"\n",
    "    else:\n",
    "        return \"Obesity\"\n",
    "\n",
    "def main():\n",
    "    try:\n",
    "        weight = float(input(\"Enter your weight in kilograms: \"))\n",
    "        height = float(input(\"Enter your height in meters: \"))\n",
    "        \n",
    "        if weight <= 0 or height <= 0:\n",
    "            raise ValueError(\"Weight and height must be positive numbers.\")\n",
    "        \n",
    "        bmi = calculate_bmi(weight, height)\n",
    "        category = classify_bmi(bmi)\n",
    "        \n",
    "        print(f\"Your BMI is: {bmi:.2f}\")\n",
    "        print(f\"Category: {category}\")\n",
    "    except ValueError as e:\n",
    "        print(f\"Invalid input: {e}\")\n",
    "\n",
    "if __name__ == \"__main__\":\n",
    "    main()\n"
   ]
  },
  {
   "cell_type": "code",
   "execution_count": null,
   "id": "3ec96306-ec1f-4ff2-a6bc-b263721db7dd",
   "metadata": {},
   "outputs": [],
   "source": []
  }
 ],
 "metadata": {
  "kernelspec": {
   "display_name": "Python 3 (ipykernel)",
   "language": "python",
   "name": "python3"
  },
  "language_info": {
   "codemirror_mode": {
    "name": "ipython",
    "version": 3
   },
   "file_extension": ".py",
   "mimetype": "text/x-python",
   "name": "python",
   "nbconvert_exporter": "python",
   "pygments_lexer": "ipython3",
   "version": "3.12.4"
  }
 },
 "nbformat": 4,
 "nbformat_minor": 5
}
