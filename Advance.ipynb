{
 "cells": [
  {
   "cell_type": "markdown",
   "id": "1f0eb730-27e8-44e3-8948-a2fd31562da6",
   "metadata": {},
   "source": [
    "**BMI Calculator Advanced Model**"
   ]
  },
  {
   "cell_type": "code",
   "execution_count": 2,
   "id": "df61eb1a-b14a-4566-9285-ca180e399c17",
   "metadata": {},
   "outputs": [
    {
     "name": "stdin",
     "output_type": "stream",
     "text": [
      "Enter your weight in kilograms:  76\n",
      "Enter your height in meters:  5.7\n"
     ]
    },
    {
     "name": "stdout",
     "output_type": "stream",
     "text": [
      "Your BMI is: 2.34\n",
      "Category: Underweight\n"
     ]
    },
    {
     "data": {
      "image/png": "[encoded data removed]",
      "text/plain": [
       "<Figure size 1000x500 with 1 Axes>"
      ]
     },
     "metadata": {},
     "output_type": "display_data"
    }
   ],
   "source": [
    "import matplotlib.pyplot as plt\n",
    "from IPython.display import display, clear_output\n",
    "import os\n",
    "\n",
    "def calculate_bmi(weight, height):\n",
    "    return weight / (height ** 2)\n",
    "\n",
    "def classify_bmi(bmi):\n",
    "    if bmi < 18.5:\n",
    "        return \"Underweight\"\n",
    "    elif 18.5 <= bmi < 24.9:\n",
    "        return \"Normal weight\"\n",
    "    elif 25 <= bmi < 29.9:\n",
    "        return \"Overweight\"\n",
    "    else:\n",
    "        return \"Obesity\"\n",
    "\n",
    "def save_result(weight, height, bmi, category):\n",
    "    with open(\"bmi_history.txt\", \"a\") as file:\n",
    "        file.write(f\"{weight},{height},{bmi:.2f},{category}\\n\")\n",
    "\n",
    "def view_history():\n",
    "    if not os.path.exists(\"bmi_history.txt\"):\n",
    "        print(\"No history found.\")\n",
    "        return\n",
    "\n",
    "    dates, bmis = [], []\n",
    "    with open(\"bmi_history.txt\", \"r\") as file:\n",
    "        for line in file:\n",
    "            weight, height, bmi, category = line.strip().split(\",\")\n",
    "            dates.append(f\"W:{weight} H:{height}\")\n",
    "            bmis.append(float(bmi))\n",
    "\n",
    "    plt.figure(figsize=(10, 5))\n",
    "    plt.plot(dates, bmis, marker='o')\n",
    "    plt.xlabel(\"Measurements\")\n",
    "    plt.ylabel(\"BMI\")\n",
    "    plt.title(\"BMI Trend Over Time\")\n",
    "    plt.xticks(rotation=45)\n",
    "    plt.tight_layout()\n",
    "    plt.show()\n",
    "\n",
    "def get_bmi_result_advanced():\n",
    "    try:\n",
    "        weight = float(input(\"Enter your weight in kilograms: \"))\n",
    "        height = float(input(\"Enter your height in meters: \"))\n",
    "\n",
    "        if weight <= 0 or height <= 0:\n",
    "            raise ValueError(\"Weight and height must be positive numbers.\")\n",
    "\n",
    "        bmi = calculate_bmi(weight, height)\n",
    "        category = classify_bmi(bmi)\n",
    "        result_text = f\"Your BMI is: {bmi:.2f}\\nCategory: {category}\"\n",
    "        \n",
    "        save_result(weight, height, bmi, category)\n",
    "        return result_text\n",
    "    except ValueError as e:\n",
    "        return f\"Invalid input: {e}\"\n",
    "\n",
    "# To get the result\n",
    "print(get_bmi_result_advanced())\n",
    "\n",
    "# To view history\n",
    "view_history()\n"
   ]
  },
  {
   "cell_type": "code",
   "execution_count": null,
   "id": "4048a5d0-375c-4623-9461-43fbf2de7ec4",
   "metadata": {},
   "outputs": [],
   "source": []
  }
 ],
 "metadata": {
  "kernelspec": {
   "display_name": "Python 3 (ipykernel)",
   "language": "python",
   "name": "python3"
  },
  "language_info": {
   "codemirror_mode": {
    "name": "ipython",
    "version": 3
   },
   "file_extension": ".py",
   "mimetype": "text/x-python",
   "name": "python",
   "nbconvert_exporter": "python",
   "pygments_lexer": "ipython3",
   "version": "3.12.4"
  }
 },
 "nbformat": 4,
 "nbformat_minor": 5
}
